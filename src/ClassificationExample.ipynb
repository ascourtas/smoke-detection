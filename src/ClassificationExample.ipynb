{
 "cells": [
  {
   "cell_type": "markdown",
   "metadata": {},
   "source": [
    "# Smoke Classification"
   ]
  },
  {
   "cell_type": "markdown",
   "metadata": {},
   "source": [
    "All images are pulled from the HPWREN tower network in southern California."
   ]
  },
  {
   "cell_type": "markdown",
   "metadata": {},
   "source": [
    "This work is built upon that of the original authors at UCSD and SDSC. See Git commit history for details."
   ]
  },
  {
   "cell_type": "code",
   "execution_count": 70,
   "metadata": {},
   "outputs": [
    {
     "name": "stdout",
     "output_type": "stream",
     "text": [
      "2.3.1\n"
     ]
    }
   ],
   "source": [
    "import tensorflow as tf; print(tf.__version__)"
   ]
  },
  {
   "cell_type": "code",
   "execution_count": 71,
   "metadata": {},
   "outputs": [
    {
     "data": {
      "text/plain": [
       "''"
      ]
     },
     "execution_count": 71,
     "metadata": {},
     "output_type": "execute_result"
    }
   ],
   "source": [
    "tf.test.gpu_device_name()\n",
    "# did this work??????\n",
    "# just checking again to make sure changes are saved"
   ]
  },
  {
   "cell_type": "markdown",
   "metadata": {},
   "source": [
    "#### GPU Hickups"
   ]
  },
  {
   "cell_type": "code",
   "execution_count": 72,
   "metadata": {},
   "outputs": [
    {
     "data": {
      "text/plain": [
       "[]"
      ]
     },
     "execution_count": 72,
     "metadata": {},
     "output_type": "execute_result"
    }
   ],
   "source": [
    "tf.test.is_built_with_cuda()\n",
    "# gpu_available = tf.test.is_gpu_available(cuda_only=False, min_cuda_compute_capability=None)\n",
    "devices = tf.config.list_physical_devices('GPU')\n",
    "devices"
   ]
  },
  {
   "cell_type": "code",
   "execution_count": 73,
   "metadata": {},
   "outputs": [
    {
     "data": {
      "text/plain": [
       "False"
      ]
     },
     "execution_count": 73,
     "metadata": {},
     "output_type": "execute_result"
    }
   ],
   "source": [
    "gpu_available = bool(len(devices))\n",
    "gpu_available"
   ]
  },
  {
   "cell_type": "code",
   "execution_count": 74,
   "metadata": {},
   "outputs": [],
   "source": [
    "# ensure there are GPUs before attempting to set mem growth\n",
    "if gpu_available:\n",
    "    physical_devices = tf.config.experimental.list_physical_devices('GPU')\n",
    "    # physical_devices = tf.config.experimental.list_physical_device  \n",
    "\n",
    "    tf.config.experimental.set_memory_growth(physical_devices[0], True) \n",
    "    assert tf.config.experimental.get_memory_growth(physical_devices[0]) \n"
   ]
  },
  {
   "cell_type": "code",
   "execution_count": 75,
   "metadata": {},
   "outputs": [
    {
     "data": {
      "text/plain": [
       "[]"
      ]
     },
     "execution_count": 75,
     "metadata": {},
     "output_type": "execute_result"
    }
   ],
   "source": [
    "gpus = tf.config.experimental.list_physical_devices('GPU')\n",
    "gpus"
   ]
  },
  {
   "cell_type": "raw",
   "metadata": {},
   "source": [
    "from tensorflow.python.client import device_lib\n",
    "\n",
    "print(device_lib.list_local_devices())"
   ]
  },
  {
   "cell_type": "code",
   "execution_count": 76,
   "metadata": {},
   "outputs": [
    {
     "data": {
      "text/plain": [
       "'2.4.0'"
      ]
     },
     "execution_count": 76,
     "metadata": {},
     "output_type": "execute_result"
    }
   ],
   "source": [
    "tf.keras.__version__\n"
   ]
  },
  {
   "cell_type": "code",
   "execution_count": 77,
   "metadata": {},
   "outputs": [],
   "source": [
    "from tensorflow import keras\n"
   ]
  },
  {
   "cell_type": "code",
   "execution_count": 78,
   "metadata": {},
   "outputs": [],
   "source": [
    "# from keras import backend as K\n",
    "# K.tensorflow_backend._get_available_gpus() ## this created an error"
   ]
  },
  {
   "cell_type": "code",
   "execution_count": 79,
   "metadata": {},
   "outputs": [],
   "source": [
    "# TODO: clean up imports\n",
    "from tensorflow.keras.models import Sequential\n",
    "from tensorflow.keras.layers import BatchNormalization\n",
    "from tensorflow.keras.layers import SeparableConv2D\n",
    "from tensorflow.keras.layers import MaxPooling2D\n",
    "from tensorflow.keras.layers import Activation\n",
    "from tensorflow.keras.layers import Flatten\n",
    "from tensorflow.keras.layers import Dropout\n",
    "from tensorflow.keras.layers import Dense"
   ]
  },
  {
   "cell_type": "markdown",
   "metadata": {},
   "source": [
    "### Detection CNN"
   ]
  },
  {
   "cell_type": "markdown",
   "metadata": {},
   "source": [
    "The FireDetectionNet CNN is the work of researchers at UCSD."
   ]
  },
  {
   "cell_type": "code",
   "execution_count": 80,
   "metadata": {},
   "outputs": [],
   "source": [
    "class FireDetectionNet:\n",
    "    @staticmethod\n",
    "    def build(width, height, depth, classes):\n",
    "        # initialize the model along with the input shape to be\n",
    "        # \"channels last\" and the channels dimension itself\n",
    "        model = Sequential()\n",
    "        inputShape = (height, width, depth)\n",
    "        chanDim = -1\n",
    "        \n",
    "        model.add(SeparableConv2D(16, (7, 7), padding=\"same\",\n",
    "                                  input_shape=inputShape))\n",
    "        model.add(Activation(\"relu\"))\n",
    "        model.add(BatchNormalization(axis=chanDim))\n",
    "        model.add(MaxPooling2D(pool_size=(2, 2)))\n",
    "        \n",
    "        model.add(SeparableConv2D(32, (3, 3), padding=\"same\"))\n",
    "        model.add(Activation(\"relu\"))\n",
    "        model.add(BatchNormalization(axis=chanDim))\n",
    "        model.add(MaxPooling2D(pool_size=(2, 2)))\n",
    "        \n",
    "        model.add(SeparableConv2D(64, (3, 3), padding=\"same\"))\n",
    "        model.add(Activation(\"relu\"))\n",
    "        model.add(BatchNormalization(axis=chanDim))\n",
    "        model.add(SeparableConv2D(64, (3, 3), padding=\"same\"))\n",
    "        model.add(Activation(\"relu\"))\n",
    "        model.add(BatchNormalization(axis=chanDim))\n",
    "        model.add(MaxPooling2D(pool_size=(2, 2)))\n",
    "        \n",
    "        model.add(Flatten())\n",
    "        model.add(Dense(128))\n",
    "        model.add(Activation(\"relu\"))\n",
    "        model.add(BatchNormalization())\n",
    "        model.add(Dropout(0.5))\n",
    "\n",
    "        # second set of FC => RELU layers\n",
    "        model.add(Dense(128))\n",
    "        model.add(Activation(\"relu\"))\n",
    "        model.add(BatchNormalization())\n",
    "        model.add(Dropout(0.5))\n",
    "\n",
    "        # softmax classifier\n",
    "        model.add(Dense(classes))\n",
    "        model.add(Activation(\"softmax\"))\n",
    "\n",
    "        # return the constructed network architecture\n",
    "        return model"
   ]
  },
  {
   "cell_type": "code",
   "execution_count": 81,
   "metadata": {},
   "outputs": [],
   "source": [
    "from tensorflow.keras.callbacks import LambdaCallback\n",
    "from tensorflow.keras import backend as K\n",
    "import matplotlib.pyplot as plt\n",
    "import numpy as np\n",
    "import tempfile"
   ]
  },
  {
   "cell_type": "code",
   "execution_count": 82,
   "metadata": {},
   "outputs": [],
   "source": [
    "class LearningRateFinder:\n",
    "    def __init__(self, model, stopFactor=4, beta=0.98):\n",
    "        # store the model, stop factor, and beta value (for computing\n",
    "        # a smoothed, average loss)\n",
    "        self.model = model\n",
    "        self.stopFactor = stopFactor\n",
    "        self.beta = beta\n",
    "\n",
    "        # initialize our list of learning rates and losses,\n",
    "        # respectively\n",
    "        self.lrs = []\n",
    "        self.losses = []\n",
    "\n",
    "        # initialize our learning rate multiplier, average loss, best\n",
    "        # loss found thus far, current batch number, and weights file\n",
    "        self.lrMult = 1\n",
    "        self.avgLoss = 0\n",
    "        self.bestLoss = 1e9\n",
    "        self.batchNum = 0\n",
    "        self.weightsFile = None\n",
    "\n",
    "    def reset(self):\n",
    "        # re-initialize all variables from our constructor\n",
    "        self.lrs = []\n",
    "        self.losses = []\n",
    "        self.lrMult = 1\n",
    "        self.avgLoss = 0\n",
    "        self.bestLoss = 1e9\n",
    "        self.batchNum = 0\n",
    "        self.weightsFile = None\n",
    "\n",
    "    def is_data_iter(self, data):\n",
    "        # define the set of class types we will check for\n",
    "        iterClasses = [\"NumpyArrayIterator\", \"DirectoryIterator\",\n",
    "             \"DataFrameIterator\", \"Iterator\", \"Sequence\"]\n",
    "\n",
    "        # return whether our data is an iterator\n",
    "        return data.__class__.__name__ in iterClasses\n",
    "\n",
    "    def on_batch_end(self, batch, logs):\n",
    "        # grab the current learning rate and add log it to the list of\n",
    "        # learning rates that we've tried\n",
    "        lr = K.get_value(self.model.optimizer.lr)\n",
    "        self.lrs.append(lr)\n",
    "\n",
    "        # grab the loss at the end of this batch, increment the total\n",
    "        # number of batches processed, compute the average average\n",
    "        # loss, smooth it, and update the losses list with the\n",
    "        # smoothed value\n",
    "        l = logs[\"loss\"]\n",
    "        self.batchNum += 1\n",
    "        self.avgLoss = (self.beta * self.avgLoss) + ((1 - self.beta) * l)\n",
    "        smooth = self.avgLoss / (1 - (self.beta ** self.batchNum))\n",
    "        self.losses.append(smooth)\n",
    "\n",
    "        # compute the maximum loss stopping factor value\n",
    "        stopLoss = self.stopFactor * self.bestLoss\n",
    "\n",
    "        # check to see whether the loss has grown too large\n",
    "        if self.batchNum > 1 and smooth > stopLoss:\n",
    "            # stop returning and return from the method\n",
    "            self.model.stop_training = True\n",
    "            return\n",
    "\n",
    "        # check to see if the best loss should be updated\n",
    "        if self.batchNum == 1 or smooth < self.bestLoss:\n",
    "            self.bestLoss = smooth\n",
    "\n",
    "        # increase the learning rate\n",
    "        lr *= self.lrMult\n",
    "        K.set_value(self.model.optimizer.lr, lr)\n",
    "\n",
    "    def find(self, trainData, startLR, endLR, epochs=None,\n",
    "        stepsPerEpoch=None, batchSize=32, sampleSize=2048,\n",
    "        classWeight=None, verbose=1):\n",
    "        # reset our class-specific variables\n",
    "        self.reset()\n",
    "\n",
    "        # determine if we are using a data generator or not\n",
    "        useGen = self.is_data_iter(trainData)\n",
    "\n",
    "        # if we're using a generator and the steps per epoch is not\n",
    "        # supplied, raise an error\n",
    "        if useGen and stepsPerEpoch is None:\n",
    "            msg = \"Using generator without supplying stepsPerEpoch\"\n",
    "            raise Exception(msg)\n",
    "\n",
    "        # if we're not using a generator then our entire dataset must\n",
    "        # already be in memory\n",
    "        elif not useGen:\n",
    "            # grab the number of samples in the training data and\n",
    "            # then derive the number of steps per epoch\n",
    "            numSamples = len(trainData[0])\n",
    "            stepsPerEpoch = np.ceil(numSamples / float(batchSize))\n",
    "\n",
    "        # if no number of training epochs are supplied, compute the\n",
    "        # training epochs based on a default sample size\n",
    "        if epochs is None:\n",
    "            epochs = int(np.ceil(sampleSize / float(stepsPerEpoch)))\n",
    "\n",
    "        # compute the total number of batch updates that will take\n",
    "        # place while we are attempting to find a good starting\n",
    "        # learning rate\n",
    "        numBatchUpdates = epochs * stepsPerEpoch\n",
    "\n",
    "        # derive the learning rate multiplier based on the ending\n",
    "        # learning rate, starting learning rate, and total number of\n",
    "        # batch updates\n",
    "        self.lrMult = (endLR / startLR) ** (1.0 / numBatchUpdates)\n",
    "\n",
    "        # create a temporary file path for the model weights and\n",
    "        # then save the weights (so we can reset the weights when we\n",
    "        # are done)\n",
    "        self.weightsFile = tempfile.mkstemp()[1]\n",
    "        self.model.save_weights(self.weightsFile)\n",
    "\n",
    "        # grab the *original* learning rate (so we can reset it\n",
    "        # later), and then set the *starting* learning rate\n",
    "        origLR = K.get_value(self.model.optimizer.lr)\n",
    "        K.set_value(self.model.optimizer.lr, startLR)\n",
    "\n",
    "        # construct a callback that will be called at the end of each\n",
    "        # batch, enabling us to increase our learning rate as training\n",
    "        # progresses\n",
    "        callback = LambdaCallback(on_batch_end=lambda batch, logs:\n",
    "            self.on_batch_end(batch, logs))\n",
    "\n",
    "        # check to see if we are using a data iterator\n",
    "        # NOTE: updated this to use model.fit, hopefully it works the same \n",
    "        if useGen:\n",
    "            self.model.fit(\n",
    "                trainData,\n",
    "                steps_per_epoch=stepsPerEpoch,\n",
    "                epochs=epochs,\n",
    "                class_weight=classWeight,\n",
    "                verbose=verbose,\n",
    "                callbacks=[callback])\n",
    "\n",
    "        # otherwise, our entire training data is already in memory\n",
    "        else:\n",
    "            # train our model using Keras' fit method\n",
    "            self.model.fit(\n",
    "                trainData[0], trainData[1],\n",
    "                batch_size=batchSize,\n",
    "                epochs=epochs,\n",
    "                class_weight=classWeight,\n",
    "                callbacks=[callback],\n",
    "                verbose=verbose)\n",
    "\n",
    "        # restore the original model weights and learning rate\n",
    "        self.model.load_weights(self.weightsFile)\n",
    "        K.set_value(self.model.optimizer.lr, origLR)\n",
    "\n",
    "    def plot_loss(self, skipBegin=10, skipEnd=1, title=\"\"):\n",
    "        # grab the learning rate and losses values to plot\n",
    "        lrs = self.lrs[skipBegin:-skipEnd]\n",
    "        losses = self.losses[skipBegin:-skipEnd]\n",
    "\n",
    "        # plot the learning rate vs. loss\n",
    "        plt.plot(lrs, losses)\n",
    "        plt.xscale(\"log\")\n",
    "        plt.xlabel(\"Learning Rate (Log Scale)\")\n",
    "        plt.ylabel(\"Loss\")\n",
    "        \n",
    "        # if the title is not empty, add it to the plot\n",
    "        if title != \"\":\n",
    "            plt.title(title)"
   ]
  },
  {
   "cell_type": "code",
   "execution_count": 127,
   "metadata": {},
   "outputs": [
    {
     "data": {
      "text/plain": [
       "'2020-11-30--02:06:56'"
      ]
     },
     "execution_count": 127,
     "metadata": {},
     "output_type": "execute_result"
    }
   ],
   "source": [
    "import os\n",
    "from datetime import date\n",
    "import datetime\n",
    "\n",
    "today = date.today()\n",
    "now = datetime.datetime.now().strftime(\"%Y-%m-%d--%H:%M:%S%Z\")\n",
    "now"
   ]
  },
  {
   "cell_type": "code",
   "execution_count": 128,
   "metadata": {},
   "outputs": [
    {
     "name": "stdout",
     "output_type": "stream",
     "text": [
      "Created directory: /userdata/kerasData/output/2020-11-30--02:06:56\n"
     ]
    }
   ],
   "source": [
    "#directory to output all the figures and model\n",
    "baseDir = \"/userdata/kerasData/output\"\n",
    "targetDir = os.path.sep.join([baseDir,str(now)])\n",
    "# NOTE: successfully creates directories in docker container \n",
    "if not os.path.exists(baseDir):\n",
    "    os.mkdir(baseDir)\n",
    "    print('Created directory: ' + baseDir)\n",
    "\n",
    "if not os.path.exists(targetDir):\n",
    "    os.mkdir(targetDir)\n",
    "    print('Created directory: ' + targetDir)\n",
    "\n",
    "# set the path to the serialized model after training\n",
    "MODEL_PATH = os.path.sep.join([targetDir, \"fire_detection.model\"])\n",
    "# define the path to the output learning rate finder plot and\n",
    "# training history plot\n",
    "LRFIND_PLOT_PATH = os.path.sep.join([targetDir, \"lrfindd_plot.png\"])\n",
    "TRAINING_ACC_PLOT_PATH = os.path.sep.join([targetDir, \"training_acc_plot.png\"])\n",
    "TRAINING_LOSS_PLOT_PATH = os.path.sep.join([targetDir, \"training_loss_plot.png\"])\n",
    "\n",
    "# define the path to the output directory that will store our final\n",
    "# output with labels/annotations along with the number of iamges to\n",
    "# sample\n",
    "OUTPUT_IMAGE_PATH = os.path.sep.join([targetDir, \"examples\"])\n",
    "SAMPLE_SIZE = 50"
   ]
  },
  {
   "cell_type": "markdown",
   "metadata": {},
   "source": [
    "### Loading Data"
   ]
  },
  {
   "cell_type": "code",
   "execution_count": 84,
   "metadata": {},
   "outputs": [],
   "source": [
    "import matplotlib\n",
    "matplotlib.use(\"Agg\")\n",
    " \n",
    "# import the necessary packages\n",
    "from tensorflow.keras.preprocessing.image import ImageDataGenerator\n",
    "from tensorflow.keras.optimizers import SGD\n",
    "from tensorflow.keras.utils import to_categorical\n",
    "from sklearn.model_selection import train_test_split\n",
    "from sklearn.metrics import classification_report\n",
    "# from imutils import paths\n",
    "import matplotlib.pyplot as plt\n",
    "import numpy as np\n",
    "import argparse\n",
    "import cv2\n",
    "import os\n",
    "import sys\n",
    "import regex as re"
   ]
  },
  {
   "cell_type": "code",
   "execution_count": 85,
   "metadata": {},
   "outputs": [],
   "source": [
    "def load_dataset(datasetPath):\n",
    "    # grab the paths to all images in our dataset directory, then\n",
    "    # initialize our lists of images\n",
    "    imagePaths = os.listdir(datasetPath)\n",
    "    trainXList = []\n",
    "    testXList = []\n",
    "    testX = np.array([])\n",
    "    trainY = np.array([])\n",
    "    trainY = np.array([])\n",
    "    testY = np.array([])\n",
    "\n",
    "    testI = 0 \n",
    "    \n",
    "    # loop over the image paths (these are all FIRE folders)\n",
    "    for directories in imagePaths:\n",
    "        # skip .DS_Store and any other hidden files\n",
    "        if directories[0] == '.':\n",
    "            continue\n",
    "        tempF= []\n",
    "        tempNF = []\n",
    "        \n",
    "        for element in os.listdir(datasetPath + \"/\"+ directories):\n",
    "            if re.search(\".jpg\", element):\n",
    "                image = cv2.imread(datasetPath + \"/\"+ directories + \"/\" + element)\n",
    "                # resize the input image to be a fixed 128x128 pixels, ignoring aspect ratio\n",
    "                image = cv2.resize(image, (128,128))\n",
    "            if \"+\" in element:\n",
    "                tempF.append(image)\n",
    "            else:\n",
    "                tempNF.append(image)\n",
    "        \n",
    "        # convert data lists to NumPy arrays\n",
    "        tempF = np.array(tempF, dtype=\"float32\")\n",
    "        tempNF = np.array(tempNF,  dtype=\"float32\")\n",
    "        \n",
    "        # construct the class labels for the data\n",
    "        fireLabels = np.ones((tempF.shape[0],))\n",
    "        nonFireLabels = np.zeros((tempNF.shape[0],))\n",
    "        \n",
    "        # stack the fire data with the non-fire data\n",
    "        data = np.vstack([tempF, tempNF])\n",
    "        labels = np.hstack([fireLabels, nonFireLabels])\n",
    "        labels = to_categorical(labels, num_classes=2)\n",
    "        # then scale the data to the range [0, 1]\n",
    "        data /= 255\n",
    "\n",
    "        (t_trainX, t_testX, t_trainY, t_testY) = train_test_split(data, labels,\n",
    "                                                                  test_size=0.2, random_state=42)\n",
    "        \n",
    "        trainXList.append(t_trainX)\n",
    "        testXList.append(t_testX)\n",
    "        \n",
    "        if trainY.size == 0:\n",
    "            trainY = t_trainY\n",
    "            testY = t_testY\n",
    "        else:\n",
    "            trainY = np.append(trainY, t_trainY, axis = 0)\n",
    "            testY = np.append(testY, t_testY, axis = 0)\n",
    "\n",
    "    \n",
    "    trainX = np.vstack(trainXList)\n",
    "    testX = np.vstack(testXList)\n",
    "    \n",
    "    labels = np.append(trainY, testY)\n",
    "    labels = to_categorical(labels, num_classes=2)\n",
    "    classTotals = labels.sum(axis=0)\n",
    "    classWeight = classTotals.max() / classTotals\n",
    "    # NOTE: assumes only 2 classes \n",
    "    classWeight = {0: classWeight[0], 1: classWeight[1]}\n",
    "    \n",
    "    print(trainX.shape, testX.shape, trainY.shape, testY.shape)\n",
    "        \n",
    "    return trainX, testX, trainY, testY, classWeight, (fireLabels, nonFireLabels), classTotals"
   ]
  },
  {
   "cell_type": "markdown",
   "metadata": {},
   "source": [
    "#### Load a smaller dataset for debugging purposes\n",
    "I copied one folder from `/userdata/kerasData/wildfireP/hpwren.ucsd.edu/HWBHPWREN-FIgLib`"
   ]
  },
  {
   "cell_type": "markdown",
   "metadata": {},
   "source": [
    "```bash\n",
    "/userdata/kerasData/wildfireP/hpwren.ucsd.edu/HWB\n",
    "mkdir HPWREN-SmallTest\n",
    "cp HPWREN-FIgLib/20170625-BBM-bm-n-mobo/ HPWREN-SmallTest/\n",
    "```"
   ]
  },
  {
   "cell_type": "code",
   "execution_count": 90,
   "metadata": {},
   "outputs": [],
   "source": [
    "# fireDataDir = \"/userdata/kerasData/wildfireP/hpwren.ucsd.edu/HWB/HPWREN-SmallTest\"\n",
    "# trainX, testX, trainY, testY, classWeight = load_dataset(fireDataDir)"
   ]
  },
  {
   "cell_type": "code",
   "execution_count": 91,
   "metadata": {},
   "outputs": [],
   "source": [
    "# load toy dataset\n",
    "fireDataDir = \"/userdata/kerasData/data\"\n",
    "#Does it exist, if not download from object storage\n",
    "if not os.path.exists(fireDataDir):\n",
    "    #make a call to api to download data\n",
    "    print('Created directory: ' + targetDir)"
   ]
  },
  {
   "cell_type": "code",
   "execution_count": 92,
   "metadata": {},
   "outputs": [
    {
     "name": "stdout",
     "output_type": "stream",
     "text": [
      "(65, 128, 128, 3) (17, 128, 128, 3) (65, 2) (17, 2)\n"
     ]
    }
   ],
   "source": [
    "trainX, testX, trainY, testY, classWeight, labels, classTotals = load_dataset(fireDataDir)"
   ]
  },
  {
   "cell_type": "code",
   "execution_count": 93,
   "metadata": {},
   "outputs": [
    {
     "data": {
      "text/plain": [
       "{0: 1.0, 1: 1.0}"
      ]
     },
     "execution_count": 93,
     "metadata": {},
     "output_type": "execute_result"
    }
   ],
   "source": [
    "## checkout the labels being returned, make sure they're even\n",
    "# len(labels[1])\n",
    "# np.hstack(labels)\n",
    "# to_categorical(np.hstack(labels), num_classes=2)\n",
    "classWeight"
   ]
  },
  {
   "cell_type": "markdown",
   "metadata": {},
   "source": [
    "#### Load the entire dataset"
   ]
  },
  {
   "cell_type": "code",
   "execution_count": 94,
   "metadata": {},
   "outputs": [],
   "source": [
    "# fireDataDir = \"/userdata/kerasData/labeldata\"\n",
    "# #Does it exist, if not download from object storage\n",
    "# if not os.path.exists(fireDataDir):\n",
    "#     #make a call to api to download data\n",
    "#     print('Created directory: ' + targetDir)\n",
    "# trainX, testX, trainY, testY, classWeight = load_dataset(fireDataDir)"
   ]
  },
  {
   "cell_type": "code",
   "execution_count": 95,
   "metadata": {},
   "outputs": [
    {
     "name": "stdout",
     "output_type": "stream",
     "text": [
      "Populating the interactive namespace from numpy and matplotlib\n"
     ]
    },
    {
     "name": "stderr",
     "output_type": "stream",
     "text": [
      "/opt/conda/lib/python3.6/site-packages/IPython/core/magics/pylab.py:161: UserWarning: pylab import has clobbered these variables: ['re']\n",
      "`%matplotlib` prevents importing * from pylab and numpy\n",
      "  \"\\n`%matplotlib` prevents importing * from pylab and numpy\"\n"
     ]
    },
    {
     "data": {
      "image/png": "[encoded data removed]",
      "text/plain": [
       "<Figure size 432x288 with 1 Axes>"
      ]
     },
     "metadata": {
      "needs_background": "light"
     },
     "output_type": "display_data"
    }
   ],
   "source": [
    "%pylab inline\n",
    "plt.imshow(trainX[0,:,:,:])\n",
    "plt.show()"
   ]
  },
  {
   "cell_type": "markdown",
   "metadata": {},
   "source": [
    "## Start of Model"
   ]
  },
  {
   "cell_type": "code",
   "execution_count": 96,
   "metadata": {},
   "outputs": [],
   "source": [
    "BATCH_SIZE = 8\n",
    "Width = 128\n",
    "Height = 128\n",
    "Depth = 3\n",
    "Classes= 2\n",
    "# initialize the class labels in the dataset\n",
    "CLASSES = [\"Non-Fire\", \"Fire\"]\n",
    "\n",
    "# define the size of the training and testing split\n",
    "TRAIN_SPLIT = 0.75\n",
    "TEST_SPLIT = 0.25\n",
    "\n",
    "# define the initial learning rate, batch size, and number of epochs\n",
    "INIT_LR = 1e-3\n",
    "BATCH_SIZE = 8\n",
    "NUM_EPOCHS = 50"
   ]
  },
  {
   "cell_type": "code",
   "execution_count": 97,
   "metadata": {},
   "outputs": [],
   "source": [
    "model = FireDetectionNet.build(width=Width, height=Height, depth=Depth, classes=Classes)"
   ]
  },
  {
   "cell_type": "code",
   "execution_count": 98,
   "metadata": {},
   "outputs": [],
   "source": [
    "opt= SGD(lr=INIT_LR, momentum=0.9,decay=INIT_LR / NUM_EPOCHS)\n",
    "model.compile(loss=\"binary_crossentropy\", optimizer=opt, metrics = ['accuracy'])\n",
    "\n",
    "aug = ImageDataGenerator(\n",
    "    rotation_range=30,\n",
    "    zoom_range=0.15,\n",
    "    width_shift_range=0.2,\n",
    "    height_shift_range=0.2,\n",
    "    shear_range=0.15,\n",
    "    horizontal_flip=True,\n",
    "    fill_mode=\"nearest\")"
   ]
  },
  {
   "cell_type": "markdown",
   "metadata": {},
   "source": [
    "#### Learning Rate Finder"
   ]
  },
  {
   "cell_type": "code",
   "execution_count": 99,
   "metadata": {},
   "outputs": [],
   "source": [
    "lrf = LearningRateFinder(model)\n",
    "stepsPerEpochNum=np.ceil((trainX.shape[0] / float(BATCH_SIZE)))"
   ]
  },
  {
   "cell_type": "code",
   "execution_count": 100,
   "metadata": {},
   "outputs": [
    {
     "data": {
      "text/plain": [
       "{0: 1.0, 1: 1.0}"
      ]
     },
     "execution_count": 100,
     "metadata": {},
     "output_type": "execute_result"
    }
   ],
   "source": [
    "classWeight"
   ]
  },
  {
   "cell_type": "code",
   "execution_count": 101,
   "metadata": {
    "scrolled": false
   },
   "outputs": [
    {
     "name": "stdout",
     "output_type": "stream",
     "text": [
      "Epoch 1/50\n",
      "9/9 [==============================] - 1s 79ms/step - loss: 1.3015 - accuracy: 0.4923\n",
      "Epoch 2/50\n",
      "9/9 [==============================] - 1s 69ms/step - loss: 1.1439 - accuracy: 0.5385\n",
      "Epoch 3/50\n",
      "9/9 [==============================] - 1s 68ms/step - loss: 1.0740 - accuracy: 0.5538\n",
      "Epoch 4/50\n",
      "9/9 [==============================] - 1s 66ms/step - loss: 1.0805 - accuracy: 0.6000\n",
      "Epoch 5/50\n",
      "9/9 [==============================] - 1s 63ms/step - loss: 1.1519 - accuracy: 0.5692\n",
      "Epoch 6/50\n",
      "9/9 [==============================] - 1s 66ms/step - loss: 1.1626 - accuracy: 0.4769\n",
      "Epoch 7/50\n",
      "9/9 [==============================] - 1s 63ms/step - loss: 1.3525 - accuracy: 0.4769\n",
      "Epoch 8/50\n",
      "9/9 [==============================] - 1s 64ms/step - loss: 1.2303 - accuracy: 0.4923\n",
      "Epoch 9/50\n",
      "9/9 [==============================] - 1s 67ms/step - loss: 1.7099 - accuracy: 0.3538\n",
      "Epoch 10/50\n",
      "9/9 [==============================] - 1s 63ms/step - loss: 1.3582 - accuracy: 0.4769\n",
      "Epoch 11/50\n",
      "9/9 [==============================] - 1s 63ms/step - loss: 1.6221 - accuracy: 0.3846\n",
      "Epoch 12/50\n",
      "9/9 [==============================] - 1s 63ms/step - loss: 1.4862 - accuracy: 0.3692\n",
      "Epoch 13/50\n",
      "9/9 [==============================] - 1s 64ms/step - loss: 1.2322 - accuracy: 0.4923\n",
      "Epoch 14/50\n",
      "9/9 [==============================] - 1s 63ms/step - loss: 1.3114 - accuracy: 0.5538\n",
      "Epoch 15/50\n",
      "9/9 [==============================] - 1s 63ms/step - loss: 1.0356 - accuracy: 0.5231\n",
      "Epoch 16/50\n",
      "9/9 [==============================] - 1s 64ms/step - loss: 1.3657 - accuracy: 0.4923\n",
      "Epoch 17/50\n",
      "9/9 [==============================] - 1s 66ms/step - loss: 1.3103 - accuracy: 0.4923\n",
      "Epoch 18/50\n",
      "9/9 [==============================] - 1s 61ms/step - loss: 1.0229 - accuracy: 0.5846\n",
      "Epoch 19/50\n",
      "9/9 [==============================] - 1s 64ms/step - loss: 1.3964 - accuracy: 0.4308\n",
      "Epoch 20/50\n",
      "9/9 [==============================] - 1s 68ms/step - loss: 0.9372 - accuracy: 0.6462\n",
      "Epoch 21/50\n",
      "9/9 [==============================] - 1s 64ms/step - loss: 1.5942 - accuracy: 0.4154\n",
      "Epoch 22/50\n",
      "9/9 [==============================] - 1s 68ms/step - loss: 1.4587 - accuracy: 0.5077\n",
      "Epoch 23/50\n",
      "9/9 [==============================] - 1s 74ms/step - loss: 1.2463 - accuracy: 0.5385\n",
      "Epoch 24/50\n",
      "9/9 [==============================] - 1s 73ms/step - loss: 1.5293 - accuracy: 0.4615\n",
      "Epoch 25/50\n",
      "9/9 [==============================] - 1s 70ms/step - loss: 1.2222 - accuracy: 0.5846\n",
      "Epoch 26/50\n",
      "9/9 [==============================] - 1s 72ms/step - loss: 1.2673 - accuracy: 0.5538\n",
      "Epoch 27/50\n",
      "9/9 [==============================] - 1s 67ms/step - loss: 1.2107 - accuracy: 0.5231\n",
      "Epoch 28/50\n",
      "9/9 [==============================] - 1s 74ms/step - loss: 1.1779 - accuracy: 0.5385\n",
      "Epoch 29/50\n",
      "9/9 [==============================] - 1s 74ms/step - loss: 1.1843 - accuracy: 0.4769\n",
      "Epoch 30/50\n",
      "9/9 [==============================] - 1s 70ms/step - loss: 1.2722 - accuracy: 0.4769\n",
      "Epoch 31/50\n",
      "9/9 [==============================] - 1s 66ms/step - loss: 1.3302 - accuracy: 0.5077\n",
      "Epoch 32/50\n",
      "9/9 [==============================] - 1s 68ms/step - loss: 1.2176 - accuracy: 0.5231\n",
      "Epoch 33/50\n",
      "9/9 [==============================] - 1s 70ms/step - loss: 1.0414 - accuracy: 0.5538\n",
      "Epoch 34/50\n",
      "9/9 [==============================] - 1s 67ms/step - loss: 0.8990 - accuracy: 0.5846\n",
      "Epoch 35/50\n",
      "9/9 [==============================] - 1s 72ms/step - loss: 1.2045 - accuracy: 0.4769\n",
      "Epoch 36/50\n",
      "9/9 [==============================] - 1s 77ms/step - loss: 1.1130 - accuracy: 0.4462\n",
      "Epoch 37/50\n",
      "9/9 [==============================] - 1s 67ms/step - loss: 1.1589 - accuracy: 0.4462\n",
      "Epoch 38/50\n",
      "9/9 [==============================] - 1s 71ms/step - loss: 1.3823 - accuracy: 0.4154\n",
      "Epoch 39/50\n",
      "9/9 [==============================] - 1s 72ms/step - loss: 1.5629 - accuracy: 0.5077\n",
      "Epoch 40/50\n",
      "9/9 [==============================] - 1s 70ms/step - loss: 1.8297 - accuracy: 0.6000\n",
      "Epoch 41/50\n",
      "9/9 [==============================] - 1s 69ms/step - loss: 3.6868 - accuracy: 0.4154\n",
      "Epoch 42/50\n",
      "9/9 [==============================] - 1s 68ms/step - loss: 5.2197 - accuracy: 0.4923\n",
      "Epoch 43/50\n",
      "9/9 [==============================] - 1s 69ms/step - loss: 7.3058 - accuracy: 0.4462\n",
      "Epoch 44/50\n",
      "9/9 [==============================] - 1s 70ms/step - loss: 6.5945 - accuracy: 0.5692\n",
      "Epoch 45/50\n",
      "9/9 [==============================] - 1s 69ms/step - loss: 6.8427 - accuracy: 0.5538\n"
     ]
    }
   ],
   "source": [
    "lrf.find(\n",
    "    aug.flow(trainX, trainY, batch_size=BATCH_SIZE),\n",
    "    1e-10, 1e+1,\n",
    "    stepsPerEpoch=stepsPerEpochNum,\n",
    "    epochs=50,\n",
    "    batchSize=BATCH_SIZE,\n",
    "    classWeight=classWeight)\n"
   ]
  },
  {
   "cell_type": "code",
   "execution_count": 102,
   "metadata": {},
   "outputs": [
    {
     "name": "stdout",
     "output_type": "stream",
     "text": [
      "Loss Rate finder complete\n"
     ]
    },
    {
     "data": {
      "image/png": "[encoded data removed]",
      "text/plain": [
       "<Figure size 432x288 with 1 Axes>"
      ]
     },
     "metadata": {
      "needs_background": "light"
     },
     "output_type": "display_data"
    }
   ],
   "source": [
    "lrf.plot_loss()\n",
    "plt.savefig(LRFIND_PLOT_PATH)\n",
    "print(\"Loss Rate finder complete\")"
   ]
  },
  {
   "cell_type": "code",
   "execution_count": 104,
   "metadata": {},
   "outputs": [],
   "source": [
    "# define the initial learning rate, batch size, and number of epochs\n",
    "# TODO: looks like LR of 1e-2 might be better based on loss plot \n",
    "INIT_LR = 1e-3\n",
    "BATCH_SIZE = 8  # TODO: in tutorial they use 64, may wanna switch with bigger data \n",
    "NUM_EPOCHS = 50"
   ]
  },
  {
   "cell_type": "markdown",
   "metadata": {},
   "source": [
    "### Start of Training"
   ]
  },
  {
   "cell_type": "code",
   "execution_count": 105,
   "metadata": {},
   "outputs": [],
   "source": [
    "aug = ImageDataGenerator(\n",
    "    rotation_range=30,\n",
    "    zoom_range=0.15,\n",
    "    width_shift_range=0.2,\n",
    "    height_shift_range=0.2,\n",
    "    shear_range=0.15,\n",
    "    horizontal_flip=True,\n",
    "    fill_mode=\"nearest\")"
   ]
  },
  {
   "cell_type": "code",
   "execution_count": 106,
   "metadata": {},
   "outputs": [],
   "source": [
    "# callback = tf.keras.callbacks.EarlyStopping(monitor='val_loss', patience=3)\n",
    "modelCheckpointFile = os.path.sep.join([targetDir, 'best_model.h5'])\n",
    "mc = tf.keras.callbacks.ModelCheckpoint(modelCheckpointFile, monitor='val_loss', mode='min', verbose=1)"
   ]
  },
  {
   "cell_type": "code",
   "execution_count": 110,
   "metadata": {},
   "outputs": [
    {
     "name": "stdout",
     "output_type": "stream",
     "text": [
      "Epoch 1/50\n",
      "8/8 [==============================] - ETA: 0s - loss: 0.6513 - accuracy: 0.6316\n",
      "Epoch 00001: saving model to /userdata/kerasData/output/2020-11-30/best_model.h5\n",
      "8/8 [==============================] - 1s 102ms/step - loss: 0.6513 - accuracy: 0.6316 - val_loss: 0.6375 - val_accuracy: 0.7059\n",
      "Epoch 2/50\n",
      "8/8 [==============================] - ETA: 0s - loss: 0.5984 - accuracy: 0.7368\n",
      "Epoch 00002: saving model to /userdata/kerasData/output/2020-11-30/best_model.h5\n",
      "8/8 [==============================] - 1s 96ms/step - loss: 0.5984 - accuracy: 0.7368 - val_loss: 0.6230 - val_accuracy: 0.7059\n",
      "Epoch 3/50\n",
      "7/8 [=========================>....] - ETA: 0s - loss: 0.8001 - accuracy: 0.5357\n",
      "Epoch 00003: saving model to /userdata/kerasData/output/2020-11-30/best_model.h5\n",
      "8/8 [==============================] - 1s 97ms/step - loss: 0.7965 - accuracy: 0.5439 - val_loss: 0.5506 - val_accuracy: 0.7059\n",
      "Epoch 4/50\n",
      "8/8 [==============================] - ETA: 0s - loss: 0.6321 - accuracy: 0.6406\n",
      "Epoch 00004: saving model to /userdata/kerasData/output/2020-11-30/best_model.h5\n",
      "8/8 [==============================] - 1s 98ms/step - loss: 0.6321 - accuracy: 0.6406 - val_loss: 0.5066 - val_accuracy: 0.7059\n",
      "Epoch 5/50\n",
      "7/8 [=========================>....] - ETA: 0s - loss: 0.6637 - accuracy: 0.6071\n",
      "Epoch 00005: saving model to /userdata/kerasData/output/2020-11-30/best_model.h5\n",
      "8/8 [==============================] - 1s 95ms/step - loss: 0.6688 - accuracy: 0.5965 - val_loss: 0.4535 - val_accuracy: 0.7647\n",
      "Epoch 6/50\n",
      "8/8 [==============================] - ETA: 0s - loss: 0.6438 - accuracy: 0.7188\n",
      "Epoch 00006: saving model to /userdata/kerasData/output/2020-11-30/best_model.h5\n",
      "8/8 [==============================] - 1s 98ms/step - loss: 0.6438 - accuracy: 0.7188 - val_loss: 0.4700 - val_accuracy: 0.6471\n",
      "Epoch 7/50\n",
      "8/8 [==============================] - ETA: 0s - loss: 0.5807 - accuracy: 0.6719\n",
      "Epoch 00007: saving model to /userdata/kerasData/output/2020-11-30/best_model.h5\n",
      "8/8 [==============================] - 1s 99ms/step - loss: 0.5807 - accuracy: 0.6719 - val_loss: 0.4684 - val_accuracy: 0.6471\n",
      "Epoch 8/50\n",
      "8/8 [==============================] - ETA: 0s - loss: 0.6816 - accuracy: 0.6562\n",
      "Epoch 00008: saving model to /userdata/kerasData/output/2020-11-30/best_model.h5\n",
      "8/8 [==============================] - 1s 101ms/step - loss: 0.6816 - accuracy: 0.6562 - val_loss: 0.4567 - val_accuracy: 0.8235\n",
      "Epoch 9/50\n",
      "8/8 [==============================] - ETA: 0s - loss: 0.5321 - accuracy: 0.7368\n",
      "Epoch 00009: saving model to /userdata/kerasData/output/2020-11-30/best_model.h5\n",
      "8/8 [==============================] - 1s 100ms/step - loss: 0.5321 - accuracy: 0.7368 - val_loss: 0.4500 - val_accuracy: 0.7647\n",
      "Epoch 10/50\n",
      "8/8 [==============================] - ETA: 0s - loss: 0.7148 - accuracy: 0.5938\n",
      "Epoch 00010: saving model to /userdata/kerasData/output/2020-11-30/best_model.h5\n",
      "8/8 [==============================] - 1s 100ms/step - loss: 0.7148 - accuracy: 0.5938 - val_loss: 0.4594 - val_accuracy: 0.7647\n",
      "Epoch 11/50\n",
      "8/8 [==============================] - ETA: 0s - loss: 0.6256 - accuracy: 0.7193\n",
      "Epoch 00011: saving model to /userdata/kerasData/output/2020-11-30/best_model.h5\n",
      "8/8 [==============================] - 1s 100ms/step - loss: 0.6256 - accuracy: 0.7193 - val_loss: 0.4733 - val_accuracy: 0.7059\n",
      "Epoch 12/50\n",
      "7/8 [=========================>....] - ETA: 0s - loss: 0.7521 - accuracy: 0.5536\n",
      "Epoch 00012: saving model to /userdata/kerasData/output/2020-11-30/best_model.h5\n",
      "8/8 [==============================] - 1s 99ms/step - loss: 0.7559 - accuracy: 0.5439 - val_loss: 0.4871 - val_accuracy: 0.7059\n",
      "Epoch 13/50\n",
      "8/8 [==============================] - ETA: 0s - loss: 0.6532 - accuracy: 0.6667\n",
      "Epoch 00013: saving model to /userdata/kerasData/output/2020-11-30/best_model.h5\n",
      "8/8 [==============================] - 1s 98ms/step - loss: 0.6532 - accuracy: 0.6667 - val_loss: 0.4665 - val_accuracy: 0.7059\n",
      "Epoch 14/50\n",
      "7/8 [=========================>....] - ETA: 0s - loss: 0.5756 - accuracy: 0.7679\n",
      "Epoch 00014: saving model to /userdata/kerasData/output/2020-11-30/best_model.h5\n",
      "8/8 [==============================] - 1s 103ms/step - loss: 0.5776 - accuracy: 0.7719 - val_loss: 0.4639 - val_accuracy: 0.7647\n",
      "Epoch 15/50\n",
      "7/8 [=========================>....] - ETA: 0s - loss: 0.7079 - accuracy: 0.6071\n",
      "Epoch 00015: saving model to /userdata/kerasData/output/2020-11-30/best_model.h5\n",
      "8/8 [==============================] - 1s 104ms/step - loss: 0.7055 - accuracy: 0.6140 - val_loss: 0.4660 - val_accuracy: 0.7059\n",
      "Epoch 16/50\n",
      "7/8 [=========================>....] - ETA: 0s - loss: 0.7310 - accuracy: 0.5179\n",
      "Epoch 00016: saving model to /userdata/kerasData/output/2020-11-30/best_model.h5\n",
      "8/8 [==============================] - 1s 102ms/step - loss: 0.7320 - accuracy: 0.5088 - val_loss: 0.4771 - val_accuracy: 0.7059\n",
      "Epoch 17/50\n",
      "8/8 [==============================] - ETA: 0s - loss: 0.6149 - accuracy: 0.6316\n",
      "Epoch 00017: saving model to /userdata/kerasData/output/2020-11-30/best_model.h5\n",
      "8/8 [==============================] - 1s 101ms/step - loss: 0.6149 - accuracy: 0.6316 - val_loss: 0.5022 - val_accuracy: 0.7059\n",
      "Epoch 18/50\n",
      "8/8 [==============================] - ETA: 0s - loss: 0.5793 - accuracy: 0.6491\n",
      "Epoch 00018: saving model to /userdata/kerasData/output/2020-11-30/best_model.h5\n",
      "8/8 [==============================] - 1s 102ms/step - loss: 0.5793 - accuracy: 0.6491 - val_loss: 0.4770 - val_accuracy: 0.7059\n",
      "Epoch 19/50\n",
      "8/8 [==============================] - ETA: 0s - loss: 0.7092 - accuracy: 0.5965\n",
      "Epoch 00019: saving model to /userdata/kerasData/output/2020-11-30/best_model.h5\n",
      "8/8 [==============================] - 1s 100ms/step - loss: 0.7092 - accuracy: 0.5965 - val_loss: 0.4536 - val_accuracy: 0.7647\n",
      "Epoch 20/50\n",
      "8/8 [==============================] - ETA: 0s - loss: 0.6641 - accuracy: 0.6140\n",
      "Epoch 00020: saving model to /userdata/kerasData/output/2020-11-30/best_model.h5\n",
      "8/8 [==============================] - 1s 100ms/step - loss: 0.6641 - accuracy: 0.6140 - val_loss: 0.4522 - val_accuracy: 0.8235\n",
      "Epoch 21/50\n",
      "8/8 [==============================] - ETA: 0s - loss: 0.7326 - accuracy: 0.5263\n",
      "Epoch 00021: saving model to /userdata/kerasData/output/2020-11-30/best_model.h5\n",
      "8/8 [==============================] - 1s 104ms/step - loss: 0.7326 - accuracy: 0.5263 - val_loss: 0.4472 - val_accuracy: 0.8235\n",
      "Epoch 22/50\n",
      "8/8 [==============================] - ETA: 0s - loss: 0.5751 - accuracy: 0.7193\n",
      "Epoch 00022: saving model to /userdata/kerasData/output/2020-11-30/best_model.h5\n",
      "8/8 [==============================] - 1s 104ms/step - loss: 0.5751 - accuracy: 0.7193 - val_loss: 0.4450 - val_accuracy: 0.7647\n",
      "Epoch 23/50\n",
      "7/8 [=========================>....] - ETA: 0s - loss: 0.6535 - accuracy: 0.6071\n",
      "Epoch 00023: saving model to /userdata/kerasData/output/2020-11-30/best_model.h5\n",
      "8/8 [==============================] - 1s 101ms/step - loss: 0.6515 - accuracy: 0.6140 - val_loss: 0.4547 - val_accuracy: 0.7647\n",
      "Epoch 24/50\n",
      "8/8 [==============================] - ETA: 0s - loss: 0.6038 - accuracy: 0.6667\n",
      "Epoch 00024: saving model to /userdata/kerasData/output/2020-11-30/best_model.h5\n",
      "8/8 [==============================] - 1s 100ms/step - loss: 0.6038 - accuracy: 0.6667 - val_loss: 0.5005 - val_accuracy: 0.7059\n",
      "Epoch 25/50\n",
      "8/8 [==============================] - ETA: 0s - loss: 0.6512 - accuracy: 0.6842\n",
      "Epoch 00025: saving model to /userdata/kerasData/output/2020-11-30/best_model.h5\n",
      "8/8 [==============================] - 1s 102ms/step - loss: 0.6512 - accuracy: 0.6842 - val_loss: 0.5325 - val_accuracy: 0.7059\n",
      "Epoch 26/50\n",
      "8/8 [==============================] - ETA: 0s - loss: 0.6854 - accuracy: 0.6140\n",
      "Epoch 00026: saving model to /userdata/kerasData/output/2020-11-30/best_model.h5\n",
      "8/8 [==============================] - 1s 105ms/step - loss: 0.6854 - accuracy: 0.6140 - val_loss: 0.4940 - val_accuracy: 0.7059\n",
      "Epoch 27/50\n",
      "8/8 [==============================] - ETA: 0s - loss: 0.6415 - accuracy: 0.6842\n",
      "Epoch 00027: saving model to /userdata/kerasData/output/2020-11-30/best_model.h5\n",
      "8/8 [==============================] - 1s 104ms/step - loss: 0.6415 - accuracy: 0.6842 - val_loss: 0.5142 - val_accuracy: 0.7059\n",
      "Epoch 28/50\n"
     ]
    },
    {
     "name": "stdout",
     "output_type": "stream",
     "text": [
      "8/8 [==============================] - ETA: 0s - loss: 0.6181 - accuracy: 0.7368\n",
      "Epoch 00028: saving model to /userdata/kerasData/output/2020-11-30/best_model.h5\n",
      "8/8 [==============================] - 1s 102ms/step - loss: 0.6181 - accuracy: 0.7368 - val_loss: 0.4465 - val_accuracy: 0.7647\n",
      "Epoch 29/50\n",
      "8/8 [==============================] - ETA: 0s - loss: 0.6876 - accuracy: 0.6842\n",
      "Epoch 00029: saving model to /userdata/kerasData/output/2020-11-30/best_model.h5\n",
      "8/8 [==============================] - 1s 103ms/step - loss: 0.6876 - accuracy: 0.6842 - val_loss: 0.4300 - val_accuracy: 0.8235\n",
      "Epoch 30/50\n",
      "8/8 [==============================] - ETA: 0s - loss: 0.5959 - accuracy: 0.6875\n",
      "Epoch 00030: saving model to /userdata/kerasData/output/2020-11-30/best_model.h5\n",
      "8/8 [==============================] - 1s 154ms/step - loss: 0.5959 - accuracy: 0.6875 - val_loss: 0.4294 - val_accuracy: 0.8235\n",
      "Epoch 31/50\n",
      "8/8 [==============================] - ETA: 0s - loss: 0.5763 - accuracy: 0.7544\n",
      "Epoch 00031: saving model to /userdata/kerasData/output/2020-11-30/best_model.h5\n",
      "8/8 [==============================] - 1s 98ms/step - loss: 0.5763 - accuracy: 0.7544 - val_loss: 0.4249 - val_accuracy: 0.7647\n",
      "Epoch 32/50\n",
      "7/8 [=========================>....] - ETA: 0s - loss: 0.7355 - accuracy: 0.5714\n",
      "Epoch 00032: saving model to /userdata/kerasData/output/2020-11-30/best_model.h5\n",
      "8/8 [==============================] - 1s 103ms/step - loss: 0.7342 - accuracy: 0.5789 - val_loss: 0.4312 - val_accuracy: 0.7647\n",
      "Epoch 33/50\n",
      "8/8 [==============================] - ETA: 0s - loss: 0.6974 - accuracy: 0.6562\n",
      "Epoch 00033: saving model to /userdata/kerasData/output/2020-11-30/best_model.h5\n",
      "8/8 [==============================] - 1s 107ms/step - loss: 0.6974 - accuracy: 0.6562 - val_loss: 0.4506 - val_accuracy: 0.7647\n",
      "Epoch 34/50\n",
      "8/8 [==============================] - ETA: 0s - loss: 0.6705 - accuracy: 0.6140\n",
      "Epoch 00034: saving model to /userdata/kerasData/output/2020-11-30/best_model.h5\n",
      "8/8 [==============================] - 1s 115ms/step - loss: 0.6705 - accuracy: 0.6140 - val_loss: 0.4695 - val_accuracy: 0.7059\n",
      "Epoch 35/50\n",
      "8/8 [==============================] - ETA: 0s - loss: 0.6843 - accuracy: 0.5965\n",
      "Epoch 00035: saving model to /userdata/kerasData/output/2020-11-30/best_model.h5\n",
      "8/8 [==============================] - 1s 108ms/step - loss: 0.6843 - accuracy: 0.5965 - val_loss: 0.5044 - val_accuracy: 0.7059\n",
      "Epoch 36/50\n",
      "8/8 [==============================] - ETA: 0s - loss: 0.6063 - accuracy: 0.6842\n",
      "Epoch 00036: saving model to /userdata/kerasData/output/2020-11-30/best_model.h5\n",
      "8/8 [==============================] - 1s 112ms/step - loss: 0.6063 - accuracy: 0.6842 - val_loss: 0.5135 - val_accuracy: 0.7059\n",
      "Epoch 37/50\n",
      "8/8 [==============================] - ETA: 0s - loss: 0.6240 - accuracy: 0.6842\n",
      "Epoch 00037: saving model to /userdata/kerasData/output/2020-11-30/best_model.h5\n",
      "8/8 [==============================] - 1s 111ms/step - loss: 0.6240 - accuracy: 0.6842 - val_loss: 0.5331 - val_accuracy: 0.7059\n",
      "Epoch 38/50\n",
      "7/8 [=========================>....] - ETA: 0s - loss: 0.5010 - accuracy: 0.7321\n",
      "Epoch 00038: saving model to /userdata/kerasData/output/2020-11-30/best_model.h5\n",
      "8/8 [==============================] - 1s 113ms/step - loss: 0.5046 - accuracy: 0.7193 - val_loss: 0.5144 - val_accuracy: 0.7059\n",
      "Epoch 39/50\n",
      "8/8 [==============================] - ETA: 0s - loss: 0.6709 - accuracy: 0.6562\n",
      "Epoch 00039: saving model to /userdata/kerasData/output/2020-11-30/best_model.h5\n",
      "8/8 [==============================] - 1s 111ms/step - loss: 0.6709 - accuracy: 0.6562 - val_loss: 0.4883 - val_accuracy: 0.7059\n",
      "Epoch 40/50\n",
      "8/8 [==============================] - ETA: 0s - loss: 0.6918 - accuracy: 0.6491\n",
      "Epoch 00040: saving model to /userdata/kerasData/output/2020-11-30/best_model.h5\n",
      "8/8 [==============================] - 1s 104ms/step - loss: 0.6918 - accuracy: 0.6491 - val_loss: 0.4507 - val_accuracy: 0.7059\n",
      "Epoch 41/50\n",
      "8/8 [==============================] - ETA: 0s - loss: 0.5501 - accuracy: 0.6842\n",
      "Epoch 00041: saving model to /userdata/kerasData/output/2020-11-30/best_model.h5\n",
      "8/8 [==============================] - 1s 104ms/step - loss: 0.5501 - accuracy: 0.6842 - val_loss: 0.4420 - val_accuracy: 0.7647\n",
      "Epoch 42/50\n",
      "8/8 [==============================] - ETA: 0s - loss: 0.6341 - accuracy: 0.6316\n",
      "Epoch 00042: saving model to /userdata/kerasData/output/2020-11-30/best_model.h5\n",
      "8/8 [==============================] - 1s 102ms/step - loss: 0.6341 - accuracy: 0.6316 - val_loss: 0.4494 - val_accuracy: 0.7647\n",
      "Epoch 43/50\n",
      "8/8 [==============================] - ETA: 0s - loss: 0.6077 - accuracy: 0.6316\n",
      "Epoch 00043: saving model to /userdata/kerasData/output/2020-11-30/best_model.h5\n",
      "8/8 [==============================] - 1s 105ms/step - loss: 0.6077 - accuracy: 0.6316 - val_loss: 0.4584 - val_accuracy: 0.7059\n",
      "Epoch 44/50\n",
      "8/8 [==============================] - ETA: 0s - loss: 0.6851 - accuracy: 0.6316\n",
      "Epoch 00044: saving model to /userdata/kerasData/output/2020-11-30/best_model.h5\n",
      "8/8 [==============================] - 1s 104ms/step - loss: 0.6851 - accuracy: 0.6316 - val_loss: 0.4589 - val_accuracy: 0.7647\n",
      "Epoch 45/50\n",
      "8/8 [==============================] - ETA: 0s - loss: 0.6404 - accuracy: 0.6842\n",
      "Epoch 00045: saving model to /userdata/kerasData/output/2020-11-30/best_model.h5\n",
      "8/8 [==============================] - 1s 100ms/step - loss: 0.6404 - accuracy: 0.6842 - val_loss: 0.4487 - val_accuracy: 0.7647\n",
      "Epoch 46/50\n",
      "8/8 [==============================] - ETA: 0s - loss: 0.6079 - accuracy: 0.7018\n",
      "Epoch 00046: saving model to /userdata/kerasData/output/2020-11-30/best_model.h5\n",
      "8/8 [==============================] - 1s 105ms/step - loss: 0.6079 - accuracy: 0.7018 - val_loss: 0.4433 - val_accuracy: 0.7647\n",
      "Epoch 47/50\n",
      "8/8 [==============================] - ETA: 0s - loss: 0.6294 - accuracy: 0.6140\n",
      "Epoch 00047: saving model to /userdata/kerasData/output/2020-11-30/best_model.h5\n",
      "8/8 [==============================] - 1s 102ms/step - loss: 0.6294 - accuracy: 0.6140 - val_loss: 0.4368 - val_accuracy: 0.7647\n",
      "Epoch 48/50\n",
      "8/8 [==============================] - ETA: 0s - loss: 0.5911 - accuracy: 0.6316\n",
      "Epoch 00048: saving model to /userdata/kerasData/output/2020-11-30/best_model.h5\n",
      "8/8 [==============================] - 1s 104ms/step - loss: 0.5911 - accuracy: 0.6316 - val_loss: 0.4319 - val_accuracy: 0.8235\n",
      "Epoch 49/50\n",
      "8/8 [==============================] - ETA: 0s - loss: 0.6543 - accuracy: 0.5965\n",
      "Epoch 00049: saving model to /userdata/kerasData/output/2020-11-30/best_model.h5\n",
      "8/8 [==============================] - 1s 103ms/step - loss: 0.6543 - accuracy: 0.5965 - val_loss: 0.4313 - val_accuracy: 0.7647\n",
      "Epoch 50/50\n",
      "8/8 [==============================] - ETA: 0s - loss: 0.5675 - accuracy: 0.6491\n",
      "Epoch 00050: saving model to /userdata/kerasData/output/2020-11-30/best_model.h5\n",
      "8/8 [==============================] - 1s 107ms/step - loss: 0.5675 - accuracy: 0.6491 - val_loss: 0.4295 - val_accuracy: 0.7647\n"
     ]
    }
   ],
   "source": [
    "# TODO: this one uses the generator ('aug'), add a condition here so I only run this if generator is being used?\n",
    "H = model.fit(\n",
    "    aug.flow(trainX, trainY, batch_size=BATCH_SIZE),\n",
    "    validation_data=(testX, testY),\n",
    "    steps_per_epoch=trainX.shape[0] // BATCH_SIZE,\n",
    "    epochs=NUM_EPOCHS,\n",
    "    class_weight=classWeight,\n",
    "    callbacks=[mc],\n",
    "    verbose=1)"
   ]
  },
  {
   "cell_type": "code",
   "execution_count": 118,
   "metadata": {},
   "outputs": [],
   "source": [
    "# H = model.fit(x=trainX,y=trainY, batch_size=BATCH_SIZE,\n",
    "#     validation_data=(testX, testY),\n",
    "#     steps_per_epoch=trainX.shape[0] // BATCH_SIZE,\n",
    "#     epochs=NUM_EPOCHS,\n",
    "#     class_weight=classWeight,\n",
    "#     callbacks=[mc],\n",
    "#     verbose=2)"
   ]
  },
  {
   "cell_type": "code",
   "execution_count": 125,
   "metadata": {},
   "outputs": [
    {
     "name": "stdout",
     "output_type": "stream",
     "text": [
      "[INFO] evaluating network...\n",
      "              precision    recall  f1-score   support\n",
      "\n",
      "    Non-Fire       0.60      1.00      0.75         6\n",
      "        Fire       1.00      0.64      0.78        11\n",
      "\n",
      "    accuracy                           0.76        17\n",
      "   macro avg       0.80      0.82      0.76        17\n",
      "weighted avg       0.86      0.76      0.77        17\n",
      "\n",
      "[INFO] serializing network to '/userdata/kerasData/output/2020-11-30/fire_detection.model'...\n",
      "INFO:tensorflow:Assets written to: /userdata/kerasData/output/2020-11-30/fire_detection.model/assets\n"
     ]
    },
    {
     "name": "stderr",
     "output_type": "stream",
     "text": [
      "INFO:tensorflow:Assets written to: /userdata/kerasData/output/2020-11-30/fire_detection.model/assets\n"
     ]
    },
    {
     "data": {
      "image/png": "[encoded data removed]",
      "text/plain": [
       "<Figure size 432x288 with 1 Axes>"
      ]
     },
     "metadata": {},
     "output_type": "display_data"
    }
   ],
   "source": [
    "# evaluate the network and show a classification report\n",
    "print(\"[INFO] evaluating network...\")\n",
    "predictions = model.predict(testX, batch_size=BATCH_SIZE)\n",
    "print(classification_report(testY.argmax(axis=1),\n",
    "    predictions.argmax(axis=1), target_names=CLASSES))\n",
    " \n",
    "# serialize the model to disk\n",
    "print(\"[INFO] serializing network to '{}'...\".format(MODEL_PATH))\n",
    "model.save(MODEL_PATH)\n",
    " \n",
    "# construct a plot that plots and saves the training history\n",
    "N = np.arange(0, NUM_EPOCHS)\n",
    "plt.style.use(\"ggplot\")\n",
    "plt.figure()\n",
    "plt.plot(N, H.history[\"loss\"], label=\"train_loss\")\n",
    "plt.plot(N, H.history[\"val_loss\"], label=\"val_loss\")\n",
    "plt.title(\"Training Loss\")\n",
    "plt.xlabel(\"Epoch #\")\n",
    "plt.ylabel(\"Loss\")\n",
    "plt.legend(loc=\"lower left\")\n",
    "plt.savefig(TRAINING_LOSS_PLOT_PATH)"
   ]
  },
  {
   "cell_type": "code",
   "execution_count": 126,
   "metadata": {},
   "outputs": [
    {
     "data": {
      "image/png": "[encoded data removed]",
      "text/plain": [
       "<Figure size 432x288 with 1 Axes>"
      ]
     },
     "metadata": {},
     "output_type": "display_data"
    }
   ],
   "source": [
    "N = np.arange(0, NUM_EPOCHS)\n",
    "plt.style.use(\"ggplot\")\n",
    "plt.figure()\n",
    "plt.plot(N, H.history[\"accuracy\"], label=\"train_acc\")\n",
    "plt.plot(N, H.history[\"val_accuracy\"], label=\"val_acc\")\n",
    "plt.title(\"Training Accuracy\")\n",
    "plt.xlabel(\"Epoch #\")\n",
    "plt.ylabel(\"Accuracy\")\n",
    "plt.legend(loc=\"lower left\")\n",
    "plt.savefig(TRAINING_ACC_PLOT_PATH)"
   ]
  },
  {
   "cell_type": "code",
   "execution_count": 120,
   "metadata": {},
   "outputs": [],
   "source": [
    "model.load_weights(modelCheckpointFile)"
   ]
  },
  {
   "cell_type": "code",
   "execution_count": 121,
   "metadata": {},
   "outputs": [
    {
     "name": "stdout",
     "output_type": "stream",
     "text": [
      "1/1 [==============================] - 0s 1ms/step - loss: 0.4295 - accuracy: 0.7647\n"
     ]
    }
   ],
   "source": [
    "loss,acc = model.evaluate(testX,testY)"
   ]
  },
  {
   "cell_type": "code",
   "execution_count": 122,
   "metadata": {},
   "outputs": [
    {
     "name": "stdout",
     "output_type": "stream",
     "text": [
      "Test Accuracy: 0.7647058963775635\n"
     ]
    }
   ],
   "source": [
    "print(\"Test Accuracy: \" + str(acc))"
   ]
  },
  {
   "cell_type": "markdown",
   "metadata": {},
   "source": [
    "### Transfer to TF.LITE"
   ]
  },
  {
   "cell_type": "code",
   "execution_count": 115,
   "metadata": {},
   "outputs": [],
   "source": [
    "from tensorflow import lite"
   ]
  },
  {
   "cell_type": "code",
   "execution_count": 116,
   "metadata": {},
   "outputs": [
    {
     "name": "stdout",
     "output_type": "stream",
     "text": [
      "WARNING:tensorflow:From /opt/conda/lib/python3.6/site-packages/tensorflow/python/training/tracking/tracking.py:111: Model.state_updates (from tensorflow.python.keras.engine.training) is deprecated and will be removed in a future version.\n",
      "Instructions for updating:\n",
      "This property should not be used in TensorFlow 2.0, as updates are applied automatically.\n",
      "WARNING:tensorflow:From /opt/conda/lib/python3.6/site-packages/tensorflow/python/training/tracking/tracking.py:111: Layer.updates (from tensorflow.python.keras.engine.base_layer) is deprecated and will be removed in a future version.\n",
      "Instructions for updating:\n",
      "This property should not be used in TensorFlow 2.0, as updates are applied automatically.\n",
      "INFO:tensorflow:Assets written to: /tmp/tmpoh2qa2sc/assets\n"
     ]
    }
   ],
   "source": [
    "converter = lite.TFLiteConverter.from_keras_model(model)\n",
    "tflite_model = converter.convert()"
   ]
  },
  {
   "cell_type": "code",
   "execution_count": 117,
   "metadata": {},
   "outputs": [
    {
     "data": {
      "text/plain": [
       "8502740"
      ]
     },
     "execution_count": 117,
     "metadata": {},
     "output_type": "execute_result"
    }
   ],
   "source": [
    "tfLiteModelFile = os.path.sep.join([targetDir, 'model.tflite'])\n",
    "open(tfLiteModelFile, \"wb\").write(tflite_model)"
   ]
  },
  {
   "cell_type": "markdown",
   "metadata": {},
   "source": [
    "### Upload tf model to object storage"
   ]
  },
  {
   "cell_type": "code",
   "execution_count": null,
   "metadata": {},
   "outputs": [],
   "source": [
    "#Check for object storage enviroment variables\n",
    "import subprocess\n",
    "\n",
    "SAGE_HOST = os.getenv('SAGE_HOST')\n",
    "SAGE_USER_TOKEN = os.getenv('SAGE_USER_TOKEN')\n",
    "BUCKET_ID_MODEL = os.getenv('BUCKET_ID_MODEL')\n",
    "\n",
    "if SAGE_HOST is None:\n",
    "    raise EnvironmentError(\"Failed because {} is not set.\".format('SAGE_HOST'))\n",
    "    \n",
    "if SAGE_USER_TOKEN is None:\n",
    "    raise EnvironmentError(\"Failed because {} is not set.\".format('SAGE_USER_TOKEN'))\n",
    "    \n",
    "if BUCKET_ID_MODEL is None:\n",
    "    raise EnvironmentError(\"Failed because {} is not set.\".format('BUCKET_ID_MODEL'))\n",
    "    \n",
    "command = 'sage-cli.py storage files upload ' +  str(BUCKET_ID_MODEL) + ' --key output ' + str(targetDir)\n",
    "print(command)\n",
    "result = subprocess.run(command, check=True, shell=True, stdout=subprocess.PIPE, stderr=subprocess.PIPE)\n",
    "print(result)"
   ]
  }
 ],
 "metadata": {
  "kernelspec": {
   "display_name": "Python 3",
   "language": "python",
   "name": "python3"
  },
  "language_info": {
   "codemirror_mode": {
    "name": "ipython",
    "version": 3
   },
   "file_extension": ".py",
   "mimetype": "text/x-python",
   "name": "python",
   "nbconvert_exporter": "python",
   "pygments_lexer": "ipython3",
   "version": "3.6.10"
  }
 },
 "nbformat": 4,
 "nbformat_minor": 2
}
